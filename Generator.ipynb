{
 "cells": [
  {
   "cell_type": "code",
   "execution_count": 1,
   "id": "e4b0b11a",
   "metadata": {},
   "outputs": [
    {
     "name": "stdout",
     "output_type": "stream",
     "text": [
      "Requirement already satisfied: ukmodulus in /opt/conda/lib/python3.7/site-packages (0.1.2)\n",
      "\u001b[33mWARNING: You are using pip version 21.2.1; however, version 21.2.4 is available.\n",
      "You should consider upgrading via the '/opt/conda/bin/python3 -m pip install --upgrade pip' command.\u001b[0m\n"
     ]
    }
   ],
   "source": [
    "!pip install ukmodulus\n",
    "from ukmodulus import validate_number\n",
    "\n",
    "import pandas as pd\n",
    "\n",
    "#Create data with sort code 40-47-34 and account number 316xxxxx and a boolean valid flag\n",
    "\n",
    "samples = []\n",
    "targets = []\n",
    "\n",
    "for last in range(99999):\n",
    "    laststr = '316'+format(last,'05d')\n",
    "    if(validate_number('404734',laststr)):\n",
    "        targets.append(True)\n",
    "    else:\n",
    "        targets.append(False)\n",
    "    samples.append([int(d) for d in laststr])\n",
    "\n",
    "#Save as csv with header \n",
    "    \n",
    "df1 = pd.DataFrame(samples, columns=['Digit0', 'Digit1', 'Digit2', 'Digit3', 'Digit4', 'Digit5', 'Digit6', 'Digit7'])    \n",
    "df2 = pd.DataFrame(targets, columns=['Valid'])    \n",
    "df1 = pd.concat([df1, df2], axis=1)\n",
    "df1.to_csv('data.csv', index=False)"
   ]
  },
  {
   "cell_type": "code",
   "execution_count": null,
   "id": "ceb2da3f",
   "metadata": {},
   "outputs": [],
   "source": []
  }
 ],
 "metadata": {
  "environment": {
   "name": "common-cpu.m73",
   "type": "gcloud",
   "uri": "gcr.io/deeplearning-platform-release/base-cpu:m73"
  },
  "kernelspec": {
   "display_name": "Python 3",
   "language": "python",
   "name": "python3"
  },
  "language_info": {
   "codemirror_mode": {
    "name": "ipython",
    "version": 3
   },
   "file_extension": ".py",
   "mimetype": "text/x-python",
   "name": "python",
   "nbconvert_exporter": "python",
   "pygments_lexer": "ipython3",
   "version": "3.7.10"
  }
 },
 "nbformat": 4,
 "nbformat_minor": 5
}
